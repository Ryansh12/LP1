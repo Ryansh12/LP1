{
 "cells": [
  {
   "cell_type": "code",
   "execution_count": 1,
   "metadata": {},
   "outputs": [],
   "source": [
    "import pandas as pd\n",
    "import os\n",
    "import matplotlib.pyplot as plt\n",
    "import math\n",
    "\n",
    "data = pd.read_csv('Iris.csv',encoding='utf-8')"
   ]
  },
  {
   "cell_type": "code",
   "execution_count": 2,
   "metadata": {},
   "outputs": [
    {
     "name": "stdout",
     "output_type": "stream",
     "text": [
      "\n",
      "Describing data as follows \n",
      "\n",
      "6\n",
      "count =  150\n",
      "Attribute type is numerical\n",
      "summation =  876.5000000000002\n",
      "mean =  5.843333333333335\n",
      "standard deviation =  0.8280661279778629\n",
      "min =  4.3\n",
      "max =  7.9\n",
      "index =  37.5\n",
      "0.25 th percentile is =  5.1\n",
      "0.5 th percentile is =  5.8\n",
      "0.75 th percentile is =  6.4\n",
      "\n",
      "\n",
      "\n",
      "count =  150\n",
      "Attribute type is numerical\n",
      "summation =  458.10000000000014\n",
      "mean =  3.0540000000000007\n",
      "standard deviation =  0.4335943113621737\n",
      "min =  2.0\n",
      "max =  4.4\n",
      "index =  37.5\n",
      "0.25 th percentile is =  2.8\n",
      "0.5 th percentile is =  3.0\n",
      "0.75 th percentile is =  3.3\n",
      "\n",
      "\n",
      "\n",
      "count =  150\n",
      "Attribute type is numerical\n",
      "summation =  563.8000000000004\n",
      "mean =  3.7586666666666693\n",
      "standard deviation =  1.7644204199522617\n",
      "min =  1.0\n",
      "max =  6.9\n",
      "index =  37.5\n",
      "0.25 th percentile is =  1.6\n",
      "0.5 th percentile is =  4.35\n",
      "0.75 th percentile is =  5.1\n",
      "\n",
      "\n",
      "\n",
      "count =  150\n",
      "Attribute type is numerical\n",
      "summation =  179.8000000000001\n",
      "mean =  1.1986666666666672\n",
      "standard deviation =  0.7631607417008414\n",
      "min =  0.1\n",
      "max =  2.5\n",
      "index =  37.5\n",
      "0.25 th percentile is =  0.3\n",
      "0.5 th percentile is =  1.3\n",
      "0.75 th percentile is =  1.8\n",
      "\n",
      "\n",
      "\n",
      "count =  150\n",
      "attribute type is nominal\n",
      "\n",
      "\n",
      "\n"
     ]
    }
   ],
   "source": [
    "cols = data.columns; #array of column names\n",
    "\n",
    "print(len(cols))\n",
    "\n",
    "full_data = []\n",
    "\n",
    "for i in range(1,6):\n",
    "    feature = cols[i]\n",
    "    Series_feature = ((data[feature]))\n",
    "    full_data.insert(0,Series_feature)\n",
    "    mean = 0;\n",
    "    count = len(Series_feature)\n",
    "    print('count = ',count)\n",
    "    type_of_data = type(Series_feature[2])\n",
    "    #print('type of data = ',type_of_data)\n",
    "    \n",
    "    if Series_feature.dtype.name == 'float64' or Series_feature.dtype.name == 'int64':\n",
    "        print('Attribute type is numerical')\n",
    "\n",
    "    if Series_feature.dtype.name == 'object':\n",
    "        print('attribute type is nominal')\n",
    "        break\n",
    "\n",
    "    \n",
    "    \n",
    "    for element in Series_feature:\n",
    "        mean+=element\n",
    "    print('summation = ',mean)\n",
    "    print('mean = ',mean/count)\n",
    "    mean = mean/count\n",
    "\n",
    "    x_x2_sum=0;\n",
    "    for element in Series_feature:\n",
    "        x_x2_sum+=(element - mean)**2\n",
    "    val = x_x2_sum/(count-1)\n",
    "    std_dev = math.sqrt(val)\n",
    "    print('standard deviation = ',std_dev)\n",
    "\n",
    "    min = 5\n",
    "    max = -1\n",
    "    for element in Series_feature:\n",
    "        if element < min:\n",
    "            min = element\n",
    "\n",
    "    print('min = ',min)\n",
    "\n",
    "    for element in Series_feature:\n",
    "        if element > max:\n",
    "            max = element\n",
    "    print('max = ',max)\n",
    "\n",
    "\n",
    "    Series_feature = Series_feature.sort_values(ascending=True)\n",
    "\n",
    "    k = 0.25\n",
    "\n",
    "    index = k*count\n",
    "    print('index = ',index)\n",
    "    if index.is_integer():\n",
    "        percentile = (Series_feature[index-1]+Series_feature[index])/2\n",
    "    else:\n",
    "        index = int(index)\n",
    "        percentile = Series_feature[index-1]\n",
    "    print(k,'th percentile is = ',Series_feature.quantile(0.25))\n",
    "\n",
    "    k = 0.50\n",
    "    index = k*count\n",
    "    if index.is_integer():\n",
    "        percentile = (Series_feature[index-1]+Series_feature[index])/2\n",
    "    else:\n",
    "        index = int(index)\n",
    "        percentile = Series_feature[index-1]\n",
    "    print(k,'th percentile is = ',Series_feature.quantile(0.50))\n",
    "\n",
    "    k = 0.75\n",
    "\n",
    "    index = k*count\n",
    "    if index.is_integer():\n",
    "        percentile = (Series_feature[index-1]+Series_feature[index])/2\n",
    "    else:\n",
    "        index = int(index)\n",
    "        percentile = Series_feature[index-1]\n",
    "    print(k,'th percentile is = ',Series_feature.quantile(0.75))\n",
    "\n",
    "\n",
    "\n",
    "    print('\\n\\n')\n",
    "\n",
    "List = []\n",
    "print('\\n\\n')"
   ]
  },
  {
   "cell_type": "code",
   "execution_count": 3,
   "metadata": {},
   "outputs": [
    {
     "data": {
      "text/html": [
       "<div>\n",
       "<style scoped>\n",
       "    .dataframe tbody tr th:only-of-type {\n",
       "        vertical-align: middle;\n",
       "    }\n",
       "\n",
       "    .dataframe tbody tr th {\n",
       "        vertical-align: top;\n",
       "    }\n",
       "\n",
       "    .dataframe thead th {\n",
       "        text-align: right;\n",
       "    }\n",
       "</style>\n",
       "<table border=\"1\" class=\"dataframe\">\n",
       "  <thead>\n",
       "    <tr style=\"text-align: right;\">\n",
       "      <th></th>\n",
       "      <th>Id</th>\n",
       "      <th>SepalLengthCm</th>\n",
       "      <th>SepalWidthCm</th>\n",
       "      <th>PetalLengthCm</th>\n",
       "      <th>PetalWidthCm</th>\n",
       "    </tr>\n",
       "  </thead>\n",
       "  <tbody>\n",
       "    <tr>\n",
       "      <th>count</th>\n",
       "      <td>150.000000</td>\n",
       "      <td>150.000000</td>\n",
       "      <td>150.000000</td>\n",
       "      <td>150.000000</td>\n",
       "      <td>150.000000</td>\n",
       "    </tr>\n",
       "    <tr>\n",
       "      <th>mean</th>\n",
       "      <td>75.500000</td>\n",
       "      <td>5.843333</td>\n",
       "      <td>3.054000</td>\n",
       "      <td>3.758667</td>\n",
       "      <td>1.198667</td>\n",
       "    </tr>\n",
       "    <tr>\n",
       "      <th>std</th>\n",
       "      <td>43.445368</td>\n",
       "      <td>0.828066</td>\n",
       "      <td>0.433594</td>\n",
       "      <td>1.764420</td>\n",
       "      <td>0.763161</td>\n",
       "    </tr>\n",
       "    <tr>\n",
       "      <th>min</th>\n",
       "      <td>1.000000</td>\n",
       "      <td>4.300000</td>\n",
       "      <td>2.000000</td>\n",
       "      <td>1.000000</td>\n",
       "      <td>0.100000</td>\n",
       "    </tr>\n",
       "    <tr>\n",
       "      <th>25%</th>\n",
       "      <td>38.250000</td>\n",
       "      <td>5.100000</td>\n",
       "      <td>2.800000</td>\n",
       "      <td>1.600000</td>\n",
       "      <td>0.300000</td>\n",
       "    </tr>\n",
       "    <tr>\n",
       "      <th>50%</th>\n",
       "      <td>75.500000</td>\n",
       "      <td>5.800000</td>\n",
       "      <td>3.000000</td>\n",
       "      <td>4.350000</td>\n",
       "      <td>1.300000</td>\n",
       "    </tr>\n",
       "    <tr>\n",
       "      <th>75%</th>\n",
       "      <td>112.750000</td>\n",
       "      <td>6.400000</td>\n",
       "      <td>3.300000</td>\n",
       "      <td>5.100000</td>\n",
       "      <td>1.800000</td>\n",
       "    </tr>\n",
       "    <tr>\n",
       "      <th>max</th>\n",
       "      <td>150.000000</td>\n",
       "      <td>7.900000</td>\n",
       "      <td>4.400000</td>\n",
       "      <td>6.900000</td>\n",
       "      <td>2.500000</td>\n",
       "    </tr>\n",
       "  </tbody>\n",
       "</table>\n",
       "</div>"
      ],
      "text/plain": [
       "               Id  SepalLengthCm  SepalWidthCm  PetalLengthCm  PetalWidthCm\n",
       "count  150.000000     150.000000    150.000000     150.000000    150.000000\n",
       "mean    75.500000       5.843333      3.054000       3.758667      1.198667\n",
       "std     43.445368       0.828066      0.433594       1.764420      0.763161\n",
       "min      1.000000       4.300000      2.000000       1.000000      0.100000\n",
       "25%     38.250000       5.100000      2.800000       1.600000      0.300000\n",
       "50%     75.500000       5.800000      3.000000       4.350000      1.300000\n",
       "75%    112.750000       6.400000      3.300000       5.100000      1.800000\n",
       "max    150.000000       7.900000      4.400000       6.900000      2.500000"
      ]
     },
     "execution_count": 3,
     "metadata": {},
     "output_type": "execute_result"
    }
   ],
   "source": [
    "data.describe()  #For verification "
   ]
  },
  {
   "cell_type": "code",
   "execution_count": 4,
   "metadata": {},
   "outputs": [
    {
     "data": {
      "image/png": "[encoded data removed]",
      "text/plain": [
       "<Figure size 432x288 with 1 Axes>"
      ]
     },
     "metadata": {
      "needs_background": "light"
     },
     "output_type": "display_data"
    },
    {
     "data": {
      "image/png": "[encoded data removed]",
      "text/plain": [
       "<Figure size 432x288 with 1 Axes>"
      ]
     },
     "metadata": {
      "needs_background": "light"
     },
     "output_type": "display_data"
    },
    {
     "data": {
      "image/png": "[encoded data removed]",
      "text/plain": [
       "<Figure size 432x288 with 1 Axes>"
      ]
     },
     "metadata": {
      "needs_background": "light"
     },
     "output_type": "display_data"
    },
    {
     "data": {
      "image/png": "[encoded data removed]",
      "text/plain": [
       "<Figure size 432x288 with 1 Axes>"
      ]
     },
     "metadata": {
      "needs_background": "light"
     },
     "output_type": "display_data"
    }
   ],
   "source": [
    "\n",
    "for i in range(1,5):\n",
    "\tfeature = cols[i]\n",
    "\tdata[feature].plot(kind='hist',bins=150)\n",
    "\tplt.title(feature+' distribution')\n",
    "\tplt.xlabel(feature)\n",
    "\tplt.show()"
   ]
  },
  {
   "cell_type": "code",
   "execution_count": 5,
   "metadata": {},
   "outputs": [
    {
     "name": "stdout",
     "output_type": "stream",
     "text": [
      "now printing boxplot\n"
     ]
    },
    {
     "data": {
      "text/plain": [
       "<matplotlib.axes._subplots.AxesSubplot at 0x2014af53cc0>"
      ]
     },
     "execution_count": 5,
     "metadata": {},
     "output_type": "execute_result"
    },
    {
     "data": {
      "image/png": "[encoded data removed]",
      "text/plain": [
       "<Figure size 432x288 with 1 Axes>"
      ]
     },
     "metadata": {
      "needs_background": "light"
     },
     "output_type": "display_data"
    }
   ],
   "source": [
    "labels=[]\n",
    "for i in range(1,5):\n",
    "\tlabels.append(cols[i])\n",
    "#fd = pd.DataFrame.from_records(RR,columns=labels)\n",
    "data.drop(cols[0],1,inplace=True)\n",
    "data.boxplot(labels)"
   ]
  },
  {
   "cell_type": "code",
   "execution_count": null,
   "metadata": {},
   "outputs": [],
   "source": []
  }
 ],
 "metadata": {
  "kernelspec": {
   "display_name": "Python 3",
   "language": "python",
   "name": "python3"
  },
  "language_info": {
   "codemirror_mode": {
    "name": "ipython",
    "version": 3
   },
   "file_extension": ".py",
   "mimetype": "text/x-python",
   "name": "python",
   "nbconvert_exporter": "python",
   "pygments_lexer": "ipython3",
   "version": "3.7.1"
  }
 },
 "nbformat": 4,
 "nbformat_minor": 2
}
